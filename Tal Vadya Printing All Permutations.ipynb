{
 "cells": [
  {
   "cell_type": "code",
   "execution_count": 6,
   "metadata": {},
   "outputs": [],
   "source": [
    "from itertools import permutations"
   ]
  },
  {
   "cell_type": "code",
   "execution_count": 7,
   "metadata": {},
   "outputs": [
    {
     "name": "stdout",
     "output_type": "stream",
     "text": [
      "New Boy Computer Swing\n",
      "['New', 'Boy', 'Computer', 'Swing']\n"
     ]
    }
   ],
   "source": [
    "words=list(map(str,input().split()))\n",
    "print(words)"
   ]
  },
  {
   "cell_type": "code",
   "execution_count": 8,
   "metadata": {},
   "outputs": [
    {
     "name": "stdout",
     "output_type": "stream",
     "text": [
      "Enter the number of cycles2\n"
     ]
    }
   ],
   "source": [
    "length=int(input(\"Enter the number of cycles\"))"
   ]
  },
  {
   "cell_type": "code",
   "execution_count": 9,
   "metadata": {},
   "outputs": [
    {
     "name": "stdout",
     "output_type": "stream",
     "text": [
      "[('New', 'Boy'), ('New', 'Computer'), ('New', 'Swing'), ('Boy', 'New'), ('Boy', 'Computer'), ('Boy', 'Swing'), ('Computer', 'New'), ('Computer', 'Boy'), ('Computer', 'Swing'), ('Swing', 'New'), ('Swing', 'Boy'), ('Swing', 'Computer')]\n"
     ]
    }
   ],
   "source": [
    "per=list(permutations(words,length))\n",
    "print(per)"
   ]
  },
  {
   "cell_type": "code",
   "execution_count": 10,
   "metadata": {},
   "outputs": [
    {
     "name": "stdout",
     "output_type": "stream",
     "text": [
      "New Boy\n",
      "New Computer\n",
      "New Swing\n",
      "Boy New\n",
      "Boy Computer\n",
      "Boy Swing\n",
      "Computer New\n",
      "Computer Boy\n",
      "Computer Swing\n",
      "Swing New\n",
      "Swing Boy\n",
      "Swing Computer\n"
     ]
    }
   ],
   "source": [
    "for i in range(len(per)):\n",
    "    new=' '.join(per[i])\n",
    "    print(new)"
   ]
  },
  {
   "cell_type": "code",
   "execution_count": null,
   "metadata": {},
   "outputs": [],
   "source": []
  }
 ],
 "metadata": {
  "kernelspec": {
   "display_name": "Python 3",
   "language": "python",
   "name": "python3"
  },
  "language_info": {
   "codemirror_mode": {
    "name": "ipython",
    "version": 3
   },
   "file_extension": ".py",
   "mimetype": "text/x-python",
   "name": "python",
   "nbconvert_exporter": "python",
   "pygments_lexer": "ipython3",
   "version": "3.6.7"
  }
 },
 "nbformat": 4,
 "nbformat_minor": 2
}
