{
 "cells": [
  {
   "cell_type": "code",
   "execution_count": 2,
   "metadata": {},
   "outputs": [],
   "source": [
    "import numpy as np\n",
    "import pandas as pd\n",
    "import matplotlib.pyplot as plt"
   ]
  },
  {
   "cell_type": "code",
   "execution_count": 3,
   "metadata": {},
   "outputs": [
    {
     "name": "stdout",
     "output_type": "stream",
     "text": [
      "Enter a sentence\n",
      "I am a boy\n",
      "I am a boy\n"
     ]
    }
   ],
   "source": [
    "print(\"Enter a sentence\")\n",
    "sent=input()\n",
    "print(sent)"
   ]
  },
  {
   "cell_type": "code",
   "execution_count": 4,
   "metadata": {},
   "outputs": [
    {
     "name": "stdout",
     "output_type": "stream",
     "text": [
      "Enter the number of replacement words5\n",
      "New \n",
      "Old\n",
      "Cat\n",
      "Computer\n",
      "Keyboard\n",
      "The list of replacement words is :\n",
      "New  Old Cat Computer Keyboard\n"
     ]
    }
   ],
   "source": [
    "n=int(input(\"Enter the number of replacement words\"))\n",
    "replace=[]\n",
    "for i in range(n):\n",
    "    x=input()\n",
    "    replace.append(x)\n",
    "print(\"The list of replacement words is :\")\n",
    "print(*replace)"
   ]
  },
  {
   "cell_type": "code",
   "execution_count": 12,
   "metadata": {},
   "outputs": [
    {
     "name": "stdout",
     "output_type": "stream",
     "text": [
      "The input sentence is :\n",
      "<class 'str'>\n",
      "['I', 'am', 'a', 'boy']\n"
     ]
    }
   ],
   "source": [
    "print(\"The input sentence is :\")\n",
    "print(type(sent))\n",
    "sent_list=list(map(str,sent.split()))\n",
    "print(sent_list)"
   ]
  },
  {
   "cell_type": "code",
   "execution_count": 16,
   "metadata": {},
   "outputs": [
    {
     "name": "stdout",
     "output_type": "stream",
     "text": [
      "I   0 \n",
      "am   1 \n",
      "a   2 \n",
      "boy   3 \n"
     ]
    }
   ],
   "source": [
    "# Mapping Different Indices\n",
    "for i in range(len(sent_list)):\n",
    "    print(\"{}   {} \".format(sent_list[i],i))"
   ]
  },
  {
   "cell_type": "code",
   "execution_count": 18,
   "metadata": {},
   "outputs": [
    {
     "name": "stdout",
     "output_type": "stream",
     "text": [
      "Enter the index of the word to be replaced1\n",
      "The word to be replaced is 'am'\n"
     ]
    }
   ],
   "source": [
    "index=int(input(\"Enter the index of the word to be replaced\"))\n",
    "if index >= len(sent_list):\n",
    "    print(\"Index Out of Range\")\n",
    "else:\n",
    "    print(\"The word to be replaced is '{}'\".format(sent_list[index]))\n"
   ]
  },
  {
   "cell_type": "code",
   "execution_count": 20,
   "metadata": {},
   "outputs": [
    {
     "name": "stdout",
     "output_type": "stream",
     "text": [
      "I New  a boy\n",
      "I Old a boy\n",
      "I Cat a boy\n",
      "I Computer a boy\n",
      "I Keyboard a boy\n"
     ]
    }
   ],
   "source": [
    "for i in range(len(replace)):\n",
    "    sent_list[index]=replace[i]\n",
    "    new=' '.join(sent_list)\n",
    "    print(new)"
   ]
  },
  {
   "cell_type": "code",
   "execution_count": null,
   "metadata": {},
   "outputs": [],
   "source": []
  }
 ],
 "metadata": {
  "kernelspec": {
   "display_name": "Python 3",
   "language": "python",
   "name": "python3"
  },
  "language_info": {
   "codemirror_mode": {
    "name": "ipython",
    "version": 3
   },
   "file_extension": ".py",
   "mimetype": "text/x-python",
   "name": "python",
   "nbconvert_exporter": "python",
   "pygments_lexer": "ipython3",
   "version": "3.6.7"
  }
 },
 "nbformat": 4,
 "nbformat_minor": 2
}
