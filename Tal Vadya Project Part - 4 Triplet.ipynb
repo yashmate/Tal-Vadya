{
 "cells": [
  {
   "cell_type": "code",
   "execution_count": 1,
   "metadata": {},
   "outputs": [],
   "source": [
    "from itertools import permutations"
   ]
  },
  {
   "cell_type": "code",
   "execution_count": 22,
   "metadata": {},
   "outputs": [
    {
     "name": "stdout",
     "output_type": "stream",
     "text": [
      "Enter the root/knowledge baseDha Dhin Dhin Dha Dha Dhin Dhin Dha Dha Tin Tin Ta Ta Dhin Dhin Dha\n"
     ]
    }
   ],
   "source": [
    "# Taking input of knowledge base / root from User (Preferably 16-bits)\n",
    "root=list(map(str,input('Enter the root/knowledge base').split()))"
   ]
  },
  {
   "cell_type": "code",
   "execution_count": 23,
   "metadata": {},
   "outputs": [
    {
     "name": "stdout",
     "output_type": "stream",
     "text": [
      "The size of each part is :  6\n"
     ]
    }
   ],
   "source": [
    "#If length of root is x:\n",
    "#Then the number of parts = 3\n",
    "#Size of each part except last = (x+2)//3\n",
    "size=(len(root)+2)//3\n",
    "print(\"The size of each part is : \",size)"
   ]
  },
  {
   "cell_type": "code",
   "execution_count": 24,
   "metadata": {},
   "outputs": [],
   "source": [
    "#This letter is always present at the last position along with space\n",
    "first_letter = root[0]\n",
    "space = \" \""
   ]
  },
  {
   "cell_type": "code",
   "execution_count": 25,
   "metadata": {},
   "outputs": [
    {
     "name": "stdout",
     "output_type": "stream",
     "text": [
      "Enter the replacement wordsTete Dha Dhina Gina Dha\n"
     ]
    }
   ],
   "source": [
    "replacement_words=list(map(str,input('Enter the replacement words').split()))"
   ]
  },
  {
   "cell_type": "code",
   "execution_count": 26,
   "metadata": {},
   "outputs": [
    {
     "name": "stdout",
     "output_type": "stream",
     "text": [
      "[('Tete', 'Dha', 'Dhina', 'Gina'), ('Tete', 'Dha', 'Dhina', 'Dha'), ('Tete', 'Dha', 'Gina', 'Dhina'), ('Tete', 'Dha', 'Gina', 'Dha'), ('Tete', 'Dha', 'Dha', 'Dhina'), ('Tete', 'Dha', 'Dha', 'Gina'), ('Tete', 'Dhina', 'Dha', 'Gina'), ('Tete', 'Dhina', 'Dha', 'Dha'), ('Tete', 'Dhina', 'Gina', 'Dha'), ('Tete', 'Dhina', 'Gina', 'Dha'), ('Tete', 'Dhina', 'Dha', 'Dha'), ('Tete', 'Dhina', 'Dha', 'Gina'), ('Tete', 'Gina', 'Dha', 'Dhina'), ('Tete', 'Gina', 'Dha', 'Dha'), ('Tete', 'Gina', 'Dhina', 'Dha'), ('Tete', 'Gina', 'Dhina', 'Dha'), ('Tete', 'Gina', 'Dha', 'Dha'), ('Tete', 'Gina', 'Dha', 'Dhina'), ('Tete', 'Dha', 'Dha', 'Dhina'), ('Tete', 'Dha', 'Dha', 'Gina'), ('Tete', 'Dha', 'Dhina', 'Dha'), ('Tete', 'Dha', 'Dhina', 'Gina'), ('Tete', 'Dha', 'Gina', 'Dha'), ('Tete', 'Dha', 'Gina', 'Dhina'), ('Dha', 'Tete', 'Dhina', 'Gina'), ('Dha', 'Tete', 'Dhina', 'Dha'), ('Dha', 'Tete', 'Gina', 'Dhina'), ('Dha', 'Tete', 'Gina', 'Dha'), ('Dha', 'Tete', 'Dha', 'Dhina'), ('Dha', 'Tete', 'Dha', 'Gina'), ('Dha', 'Dhina', 'Tete', 'Gina'), ('Dha', 'Dhina', 'Tete', 'Dha'), ('Dha', 'Dhina', 'Gina', 'Tete'), ('Dha', 'Dhina', 'Gina', 'Dha'), ('Dha', 'Dhina', 'Dha', 'Tete'), ('Dha', 'Dhina', 'Dha', 'Gina'), ('Dha', 'Gina', 'Tete', 'Dhina'), ('Dha', 'Gina', 'Tete', 'Dha'), ('Dha', 'Gina', 'Dhina', 'Tete'), ('Dha', 'Gina', 'Dhina', 'Dha'), ('Dha', 'Gina', 'Dha', 'Tete'), ('Dha', 'Gina', 'Dha', 'Dhina'), ('Dha', 'Dha', 'Tete', 'Dhina'), ('Dha', 'Dha', 'Tete', 'Gina'), ('Dha', 'Dha', 'Dhina', 'Tete'), ('Dha', 'Dha', 'Dhina', 'Gina'), ('Dha', 'Dha', 'Gina', 'Tete'), ('Dha', 'Dha', 'Gina', 'Dhina'), ('Dhina', 'Tete', 'Dha', 'Gina'), ('Dhina', 'Tete', 'Dha', 'Dha'), ('Dhina', 'Tete', 'Gina', 'Dha'), ('Dhina', 'Tete', 'Gina', 'Dha'), ('Dhina', 'Tete', 'Dha', 'Dha'), ('Dhina', 'Tete', 'Dha', 'Gina'), ('Dhina', 'Dha', 'Tete', 'Gina'), ('Dhina', 'Dha', 'Tete', 'Dha'), ('Dhina', 'Dha', 'Gina', 'Tete'), ('Dhina', 'Dha', 'Gina', 'Dha'), ('Dhina', 'Dha', 'Dha', 'Tete'), ('Dhina', 'Dha', 'Dha', 'Gina'), ('Dhina', 'Gina', 'Tete', 'Dha'), ('Dhina', 'Gina', 'Tete', 'Dha'), ('Dhina', 'Gina', 'Dha', 'Tete'), ('Dhina', 'Gina', 'Dha', 'Dha'), ('Dhina', 'Gina', 'Dha', 'Tete'), ('Dhina', 'Gina', 'Dha', 'Dha'), ('Dhina', 'Dha', 'Tete', 'Dha'), ('Dhina', 'Dha', 'Tete', 'Gina'), ('Dhina', 'Dha', 'Dha', 'Tete'), ('Dhina', 'Dha', 'Dha', 'Gina'), ('Dhina', 'Dha', 'Gina', 'Tete'), ('Dhina', 'Dha', 'Gina', 'Dha'), ('Gina', 'Tete', 'Dha', 'Dhina'), ('Gina', 'Tete', 'Dha', 'Dha'), ('Gina', 'Tete', 'Dhina', 'Dha'), ('Gina', 'Tete', 'Dhina', 'Dha'), ('Gina', 'Tete', 'Dha', 'Dha'), ('Gina', 'Tete', 'Dha', 'Dhina'), ('Gina', 'Dha', 'Tete', 'Dhina'), ('Gina', 'Dha', 'Tete', 'Dha'), ('Gina', 'Dha', 'Dhina', 'Tete'), ('Gina', 'Dha', 'Dhina', 'Dha'), ('Gina', 'Dha', 'Dha', 'Tete'), ('Gina', 'Dha', 'Dha', 'Dhina'), ('Gina', 'Dhina', 'Tete', 'Dha'), ('Gina', 'Dhina', 'Tete', 'Dha'), ('Gina', 'Dhina', 'Dha', 'Tete'), ('Gina', 'Dhina', 'Dha', 'Dha'), ('Gina', 'Dhina', 'Dha', 'Tete'), ('Gina', 'Dhina', 'Dha', 'Dha'), ('Gina', 'Dha', 'Tete', 'Dha'), ('Gina', 'Dha', 'Tete', 'Dhina'), ('Gina', 'Dha', 'Dha', 'Tete'), ('Gina', 'Dha', 'Dha', 'Dhina'), ('Gina', 'Dha', 'Dhina', 'Tete'), ('Gina', 'Dha', 'Dhina', 'Dha'), ('Dha', 'Tete', 'Dha', 'Dhina'), ('Dha', 'Tete', 'Dha', 'Gina'), ('Dha', 'Tete', 'Dhina', 'Dha'), ('Dha', 'Tete', 'Dhina', 'Gina'), ('Dha', 'Tete', 'Gina', 'Dha'), ('Dha', 'Tete', 'Gina', 'Dhina'), ('Dha', 'Dha', 'Tete', 'Dhina'), ('Dha', 'Dha', 'Tete', 'Gina'), ('Dha', 'Dha', 'Dhina', 'Tete'), ('Dha', 'Dha', 'Dhina', 'Gina'), ('Dha', 'Dha', 'Gina', 'Tete'), ('Dha', 'Dha', 'Gina', 'Dhina'), ('Dha', 'Dhina', 'Tete', 'Dha'), ('Dha', 'Dhina', 'Tete', 'Gina'), ('Dha', 'Dhina', 'Dha', 'Tete'), ('Dha', 'Dhina', 'Dha', 'Gina'), ('Dha', 'Dhina', 'Gina', 'Tete'), ('Dha', 'Dhina', 'Gina', 'Dha'), ('Dha', 'Gina', 'Tete', 'Dha'), ('Dha', 'Gina', 'Tete', 'Dhina'), ('Dha', 'Gina', 'Dha', 'Tete'), ('Dha', 'Gina', 'Dha', 'Dhina'), ('Dha', 'Gina', 'Dhina', 'Tete'), ('Dha', 'Gina', 'Dhina', 'Dha')]\n"
     ]
    }
   ],
   "source": [
    "#The number of words to be replaced = size_of_each_part - 2\n",
    "replacement_length=size-2\n",
    "permutations_list=list(permutations(replacement_words,replacement_length))\n",
    "print(permutations_list)"
   ]
  },
  {
   "cell_type": "code",
   "execution_count": 30,
   "metadata": {},
   "outputs": [
    {
     "name": "stdout",
     "output_type": "stream",
     "text": [
      "Tete Dha Dhina Gina Dha Pause Tete Dha Dhina Gina Dha Pause Tete Dha Dhina Gina\n",
      "Tete Dha Dhina Dha Dha Pause Tete Dha Dhina Dha Dha Pause Tete Dha Dhina Dha\n",
      "Tete Dha Gina Dhina Dha Pause Tete Dha Gina Dhina Dha Pause Tete Dha Gina Dhina\n",
      "Tete Dha Gina Dha Dha Pause Tete Dha Gina Dha Dha Pause Tete Dha Gina Dha\n",
      "Tete Dha Dha Dhina Dha Pause Tete Dha Dha Dhina Dha Pause Tete Dha Dha Dhina\n",
      "Tete Dha Dha Gina Dha Pause Tete Dha Dha Gina Dha Pause Tete Dha Dha Gina\n",
      "Tete Dhina Dha Gina Dha Pause Tete Dhina Dha Gina Dha Pause Tete Dhina Dha Gina\n",
      "Tete Dhina Dha Dha Dha Pause Tete Dhina Dha Dha Dha Pause Tete Dhina Dha Dha\n",
      "Tete Dhina Gina Dha Dha Pause Tete Dhina Gina Dha Dha Pause Tete Dhina Gina Dha\n",
      "Tete Dhina Gina Dha Dha Pause Tete Dhina Gina Dha Dha Pause Tete Dhina Gina Dha\n",
      "Tete Dhina Dha Dha Dha Pause Tete Dhina Dha Dha Dha Pause Tete Dhina Dha Dha\n",
      "Tete Dhina Dha Gina Dha Pause Tete Dhina Dha Gina Dha Pause Tete Dhina Dha Gina\n",
      "Tete Gina Dha Dhina Dha Pause Tete Gina Dha Dhina Dha Pause Tete Gina Dha Dhina\n",
      "Tete Gina Dha Dha Dha Pause Tete Gina Dha Dha Dha Pause Tete Gina Dha Dha\n",
      "Tete Gina Dhina Dha Dha Pause Tete Gina Dhina Dha Dha Pause Tete Gina Dhina Dha\n",
      "Tete Gina Dhina Dha Dha Pause Tete Gina Dhina Dha Dha Pause Tete Gina Dhina Dha\n",
      "Tete Gina Dha Dha Dha Pause Tete Gina Dha Dha Dha Pause Tete Gina Dha Dha\n",
      "Tete Gina Dha Dhina Dha Pause Tete Gina Dha Dhina Dha Pause Tete Gina Dha Dhina\n",
      "Tete Dha Dha Dhina Dha Pause Tete Dha Dha Dhina Dha Pause Tete Dha Dha Dhina\n",
      "Tete Dha Dha Gina Dha Pause Tete Dha Dha Gina Dha Pause Tete Dha Dha Gina\n",
      "Tete Dha Dhina Dha Dha Pause Tete Dha Dhina Dha Dha Pause Tete Dha Dhina Dha\n",
      "Tete Dha Dhina Gina Dha Pause Tete Dha Dhina Gina Dha Pause Tete Dha Dhina Gina\n",
      "Tete Dha Gina Dha Dha Pause Tete Dha Gina Dha Dha Pause Tete Dha Gina Dha\n",
      "Tete Dha Gina Dhina Dha Pause Tete Dha Gina Dhina Dha Pause Tete Dha Gina Dhina\n",
      "Dha Tete Dhina Gina Dha Pause Dha Tete Dhina Gina Dha Pause Dha Tete Dhina Gina\n",
      "Dha Tete Dhina Dha Dha Pause Dha Tete Dhina Dha Dha Pause Dha Tete Dhina Dha\n",
      "Dha Tete Gina Dhina Dha Pause Dha Tete Gina Dhina Dha Pause Dha Tete Gina Dhina\n",
      "Dha Tete Gina Dha Dha Pause Dha Tete Gina Dha Dha Pause Dha Tete Gina Dha\n",
      "Dha Tete Dha Dhina Dha Pause Dha Tete Dha Dhina Dha Pause Dha Tete Dha Dhina\n",
      "Dha Tete Dha Gina Dha Pause Dha Tete Dha Gina Dha Pause Dha Tete Dha Gina\n",
      "Dha Dhina Tete Gina Dha Pause Dha Dhina Tete Gina Dha Pause Dha Dhina Tete Gina\n",
      "Dha Dhina Tete Dha Dha Pause Dha Dhina Tete Dha Dha Pause Dha Dhina Tete Dha\n",
      "Dha Dhina Gina Tete Dha Pause Dha Dhina Gina Tete Dha Pause Dha Dhina Gina Tete\n",
      "Dha Dhina Gina Dha Dha Pause Dha Dhina Gina Dha Dha Pause Dha Dhina Gina Dha\n",
      "Dha Dhina Dha Tete Dha Pause Dha Dhina Dha Tete Dha Pause Dha Dhina Dha Tete\n",
      "Dha Dhina Dha Gina Dha Pause Dha Dhina Dha Gina Dha Pause Dha Dhina Dha Gina\n",
      "Dha Gina Tete Dhina Dha Pause Dha Gina Tete Dhina Dha Pause Dha Gina Tete Dhina\n",
      "Dha Gina Tete Dha Dha Pause Dha Gina Tete Dha Dha Pause Dha Gina Tete Dha\n",
      "Dha Gina Dhina Tete Dha Pause Dha Gina Dhina Tete Dha Pause Dha Gina Dhina Tete\n",
      "Dha Gina Dhina Dha Dha Pause Dha Gina Dhina Dha Dha Pause Dha Gina Dhina Dha\n",
      "Dha Gina Dha Tete Dha Pause Dha Gina Dha Tete Dha Pause Dha Gina Dha Tete\n",
      "Dha Gina Dha Dhina Dha Pause Dha Gina Dha Dhina Dha Pause Dha Gina Dha Dhina\n",
      "Dha Dha Tete Dhina Dha Pause Dha Dha Tete Dhina Dha Pause Dha Dha Tete Dhina\n",
      "Dha Dha Tete Gina Dha Pause Dha Dha Tete Gina Dha Pause Dha Dha Tete Gina\n",
      "Dha Dha Dhina Tete Dha Pause Dha Dha Dhina Tete Dha Pause Dha Dha Dhina Tete\n",
      "Dha Dha Dhina Gina Dha Pause Dha Dha Dhina Gina Dha Pause Dha Dha Dhina Gina\n",
      "Dha Dha Gina Tete Dha Pause Dha Dha Gina Tete Dha Pause Dha Dha Gina Tete\n",
      "Dha Dha Gina Dhina Dha Pause Dha Dha Gina Dhina Dha Pause Dha Dha Gina Dhina\n",
      "Dhina Tete Dha Gina Dha Pause Dhina Tete Dha Gina Dha Pause Dhina Tete Dha Gina\n",
      "Dhina Tete Dha Dha Dha Pause Dhina Tete Dha Dha Dha Pause Dhina Tete Dha Dha\n",
      "Dhina Tete Gina Dha Dha Pause Dhina Tete Gina Dha Dha Pause Dhina Tete Gina Dha\n",
      "Dhina Tete Gina Dha Dha Pause Dhina Tete Gina Dha Dha Pause Dhina Tete Gina Dha\n",
      "Dhina Tete Dha Dha Dha Pause Dhina Tete Dha Dha Dha Pause Dhina Tete Dha Dha\n",
      "Dhina Tete Dha Gina Dha Pause Dhina Tete Dha Gina Dha Pause Dhina Tete Dha Gina\n",
      "Dhina Dha Tete Gina Dha Pause Dhina Dha Tete Gina Dha Pause Dhina Dha Tete Gina\n",
      "Dhina Dha Tete Dha Dha Pause Dhina Dha Tete Dha Dha Pause Dhina Dha Tete Dha\n",
      "Dhina Dha Gina Tete Dha Pause Dhina Dha Gina Tete Dha Pause Dhina Dha Gina Tete\n",
      "Dhina Dha Gina Dha Dha Pause Dhina Dha Gina Dha Dha Pause Dhina Dha Gina Dha\n",
      "Dhina Dha Dha Tete Dha Pause Dhina Dha Dha Tete Dha Pause Dhina Dha Dha Tete\n",
      "Dhina Dha Dha Gina Dha Pause Dhina Dha Dha Gina Dha Pause Dhina Dha Dha Gina\n",
      "Dhina Gina Tete Dha Dha Pause Dhina Gina Tete Dha Dha Pause Dhina Gina Tete Dha\n",
      "Dhina Gina Tete Dha Dha Pause Dhina Gina Tete Dha Dha Pause Dhina Gina Tete Dha\n",
      "Dhina Gina Dha Tete Dha Pause Dhina Gina Dha Tete Dha Pause Dhina Gina Dha Tete\n",
      "Dhina Gina Dha Dha Dha Pause Dhina Gina Dha Dha Dha Pause Dhina Gina Dha Dha\n",
      "Dhina Gina Dha Tete Dha Pause Dhina Gina Dha Tete Dha Pause Dhina Gina Dha Tete\n",
      "Dhina Gina Dha Dha Dha Pause Dhina Gina Dha Dha Dha Pause Dhina Gina Dha Dha\n",
      "Dhina Dha Tete Dha Dha Pause Dhina Dha Tete Dha Dha Pause Dhina Dha Tete Dha\n",
      "Dhina Dha Tete Gina Dha Pause Dhina Dha Tete Gina Dha Pause Dhina Dha Tete Gina\n",
      "Dhina Dha Dha Tete Dha Pause Dhina Dha Dha Tete Dha Pause Dhina Dha Dha Tete\n",
      "Dhina Dha Dha Gina Dha Pause Dhina Dha Dha Gina Dha Pause Dhina Dha Dha Gina\n",
      "Dhina Dha Gina Tete Dha Pause Dhina Dha Gina Tete Dha Pause Dhina Dha Gina Tete\n",
      "Dhina Dha Gina Dha Dha Pause Dhina Dha Gina Dha Dha Pause Dhina Dha Gina Dha\n",
      "Gina Tete Dha Dhina Dha Pause Gina Tete Dha Dhina Dha Pause Gina Tete Dha Dhina\n",
      "Gina Tete Dha Dha Dha Pause Gina Tete Dha Dha Dha Pause Gina Tete Dha Dha\n",
      "Gina Tete Dhina Dha Dha Pause Gina Tete Dhina Dha Dha Pause Gina Tete Dhina Dha\n",
      "Gina Tete Dhina Dha Dha Pause Gina Tete Dhina Dha Dha Pause Gina Tete Dhina Dha\n",
      "Gina Tete Dha Dha Dha Pause Gina Tete Dha Dha Dha Pause Gina Tete Dha Dha\n",
      "Gina Tete Dha Dhina Dha Pause Gina Tete Dha Dhina Dha Pause Gina Tete Dha Dhina\n",
      "Gina Dha Tete Dhina Dha Pause Gina Dha Tete Dhina Dha Pause Gina Dha Tete Dhina\n",
      "Gina Dha Tete Dha Dha Pause Gina Dha Tete Dha Dha Pause Gina Dha Tete Dha\n",
      "Gina Dha Dhina Tete Dha Pause Gina Dha Dhina Tete Dha Pause Gina Dha Dhina Tete\n",
      "Gina Dha Dhina Dha Dha Pause Gina Dha Dhina Dha Dha Pause Gina Dha Dhina Dha\n",
      "Gina Dha Dha Tete Dha Pause Gina Dha Dha Tete Dha Pause Gina Dha Dha Tete\n",
      "Gina Dha Dha Dhina Dha Pause Gina Dha Dha Dhina Dha Pause Gina Dha Dha Dhina\n",
      "Gina Dhina Tete Dha Dha Pause Gina Dhina Tete Dha Dha Pause Gina Dhina Tete Dha\n",
      "Gina Dhina Tete Dha Dha Pause Gina Dhina Tete Dha Dha Pause Gina Dhina Tete Dha\n",
      "Gina Dhina Dha Tete Dha Pause Gina Dhina Dha Tete Dha Pause Gina Dhina Dha Tete\n",
      "Gina Dhina Dha Dha Dha Pause Gina Dhina Dha Dha Dha Pause Gina Dhina Dha Dha\n",
      "Gina Dhina Dha Tete Dha Pause Gina Dhina Dha Tete Dha Pause Gina Dhina Dha Tete\n",
      "Gina Dhina Dha Dha Dha Pause Gina Dhina Dha Dha Dha Pause Gina Dhina Dha Dha\n",
      "Gina Dha Tete Dha Dha Pause Gina Dha Tete Dha Dha Pause Gina Dha Tete Dha\n",
      "Gina Dha Tete Dhina Dha Pause Gina Dha Tete Dhina Dha Pause Gina Dha Tete Dhina\n",
      "Gina Dha Dha Tete Dha Pause Gina Dha Dha Tete Dha Pause Gina Dha Dha Tete\n",
      "Gina Dha Dha Dhina Dha Pause Gina Dha Dha Dhina Dha Pause Gina Dha Dha Dhina\n",
      "Gina Dha Dhina Tete Dha Pause Gina Dha Dhina Tete Dha Pause Gina Dha Dhina Tete\n",
      "Gina Dha Dhina Dha Dha Pause Gina Dha Dhina Dha Dha Pause Gina Dha Dhina Dha\n",
      "Dha Tete Dha Dhina Dha Pause Dha Tete Dha Dhina Dha Pause Dha Tete Dha Dhina\n",
      "Dha Tete Dha Gina Dha Pause Dha Tete Dha Gina Dha Pause Dha Tete Dha Gina\n",
      "Dha Tete Dhina Dha Dha Pause Dha Tete Dhina Dha Dha Pause Dha Tete Dhina Dha\n",
      "Dha Tete Dhina Gina Dha Pause Dha Tete Dhina Gina Dha Pause Dha Tete Dhina Gina\n",
      "Dha Tete Gina Dha Dha Pause Dha Tete Gina Dha Dha Pause Dha Tete Gina Dha\n",
      "Dha Tete Gina Dhina Dha Pause Dha Tete Gina Dhina Dha Pause Dha Tete Gina Dhina\n",
      "Dha Dha Tete Dhina Dha Pause Dha Dha Tete Dhina Dha Pause Dha Dha Tete Dhina\n",
      "Dha Dha Tete Gina Dha Pause Dha Dha Tete Gina Dha Pause Dha Dha Tete Gina\n",
      "Dha Dha Dhina Tete Dha Pause Dha Dha Dhina Tete Dha Pause Dha Dha Dhina Tete\n",
      "Dha Dha Dhina Gina Dha Pause Dha Dha Dhina Gina Dha Pause Dha Dha Dhina Gina\n",
      "Dha Dha Gina Tete Dha Pause Dha Dha Gina Tete Dha Pause Dha Dha Gina Tete\n",
      "Dha Dha Gina Dhina Dha Pause Dha Dha Gina Dhina Dha Pause Dha Dha Gina Dhina\n",
      "Dha Dhina Tete Dha Dha Pause Dha Dhina Tete Dha Dha Pause Dha Dhina Tete Dha\n",
      "Dha Dhina Tete Gina Dha Pause Dha Dhina Tete Gina Dha Pause Dha Dhina Tete Gina\n",
      "Dha Dhina Dha Tete Dha Pause Dha Dhina Dha Tete Dha Pause Dha Dhina Dha Tete\n",
      "Dha Dhina Dha Gina Dha Pause Dha Dhina Dha Gina Dha Pause Dha Dhina Dha Gina\n",
      "Dha Dhina Gina Tete Dha Pause Dha Dhina Gina Tete Dha Pause Dha Dhina Gina Tete\n",
      "Dha Dhina Gina Dha Dha Pause Dha Dhina Gina Dha Dha Pause Dha Dhina Gina Dha\n",
      "Dha Gina Tete Dha Dha Pause Dha Gina Tete Dha Dha Pause Dha Gina Tete Dha\n",
      "Dha Gina Tete Dhina Dha Pause Dha Gina Tete Dhina Dha Pause Dha Gina Tete Dhina\n",
      "Dha Gina Dha Tete Dha Pause Dha Gina Dha Tete Dha Pause Dha Gina Dha Tete\n",
      "Dha Gina Dha Dhina Dha Pause Dha Gina Dha Dhina Dha Pause Dha Gina Dha Dhina\n",
      "Dha Gina Dhina Tete Dha Pause Dha Gina Dhina Tete Dha Pause Dha Gina Dhina Tete\n",
      "Dha Gina Dhina Dha Dha Pause Dha Gina Dhina Dha Dha Pause Dha Gina Dhina Dha\n",
      "120\n"
     ]
    }
   ],
   "source": [
    "no=0\n",
    "for i in permutations_list:\n",
    "    string=' '.join(i)\n",
    "    string = string + ' '+first_letter +' '+ 'Pause '\n",
    "    string=string*3\n",
    "    string=list(map(str,string.split()))\n",
    "    string=string[:-2]\n",
    "    string=' '.join(string)\n",
    "    print(string)\n",
    "    no+=1\n",
    "print(no)"
   ]
  },
  {
   "cell_type": "code",
   "execution_count": null,
   "metadata": {},
   "outputs": [],
   "source": []
  }
 ],
 "metadata": {
  "kernelspec": {
   "display_name": "Python 3",
   "language": "python",
   "name": "python3"
  },
  "language_info": {
   "codemirror_mode": {
    "name": "ipython",
    "version": 3
   },
   "file_extension": ".py",
   "mimetype": "text/x-python",
   "name": "python",
   "nbconvert_exporter": "python",
   "pygments_lexer": "ipython3",
   "version": "3.6.7"
  }
 },
 "nbformat": 4,
 "nbformat_minor": 2
}
