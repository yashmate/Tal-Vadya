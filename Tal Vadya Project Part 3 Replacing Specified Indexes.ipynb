{
 "cells": [
  {
   "cell_type": "code",
   "execution_count": 1,
   "metadata": {},
   "outputs": [],
   "source": [
    "from itertools import permutations"
   ]
  },
  {
   "cell_type": "code",
   "execution_count": 2,
   "metadata": {},
   "outputs": [
    {
     "name": "stdout",
     "output_type": "stream",
     "text": [
      "Enter the knowledge baseA quick brown fox jumps over the lazy goats\n",
      "A quick brown fox jumps over the lazy goats\n"
     ]
    }
   ],
   "source": [
    "base=input(\"Enter the knowledge base\")\n",
    "print(base)"
   ]
  },
  {
   "cell_type": "code",
   "execution_count": 3,
   "metadata": {},
   "outputs": [
    {
     "name": "stdout",
     "output_type": "stream",
     "text": [
      "['A', 'quick', 'brown', 'fox', 'jumps', 'over', 'the', 'lazy', 'goats']\n"
     ]
    }
   ],
   "source": [
    "base=list(map(str,base.split()))\n",
    "print(base)"
   ]
  },
  {
   "cell_type": "code",
   "execution_count": 4,
   "metadata": {},
   "outputs": [
    {
     "name": "stdout",
     "output_type": "stream",
     "text": [
      "Enter the replacement wordsNew Young Wild Free Strong\n",
      "New Young Wild Free Strong\n"
     ]
    }
   ],
   "source": [
    "options=list(map(str,input('Enter the replacement words').split()))\n",
    "print(*options)"
   ]
  },
  {
   "cell_type": "code",
   "execution_count": 5,
   "metadata": {},
   "outputs": [
    {
     "name": "stdout",
     "output_type": "stream",
     "text": [
      "A 0\n",
      "quick 1\n",
      "brown 2\n",
      "fox 3\n",
      "jumps 4\n",
      "over 5\n",
      "the 6\n",
      "lazy 7\n",
      "goats 8\n"
     ]
    }
   ],
   "source": [
    "for i in range(len(base)):\n",
    "    print(base[i],i)"
   ]
  },
  {
   "cell_type": "code",
   "execution_count": 6,
   "metadata": {},
   "outputs": [
    {
     "name": "stdout",
     "output_type": "stream",
     "text": [
      "Enter the indexes of the words to be replaced1 5 7\n"
     ]
    }
   ],
   "source": [
    "indexes=list(map(int,input('Enter the indexes of the words to be replaced').split()))"
   ]
  },
  {
   "cell_type": "code",
   "execution_count": 7,
   "metadata": {},
   "outputs": [
    {
     "name": "stdout",
     "output_type": "stream",
     "text": [
      "1 5 7\n"
     ]
    }
   ],
   "source": [
    "print(*indexes)"
   ]
  },
  {
   "cell_type": "code",
   "execution_count": 10,
   "metadata": {},
   "outputs": [
    {
     "name": "stdout",
     "output_type": "stream",
     "text": [
      "('New', 'Young', 'Wild') ('New', 'Young', 'Free') ('New', 'Young', 'Strong') ('New', 'Wild', 'Young') ('New', 'Wild', 'Free') ('New', 'Wild', 'Strong') ('New', 'Free', 'Young') ('New', 'Free', 'Wild') ('New', 'Free', 'Strong') ('New', 'Strong', 'Young') ('New', 'Strong', 'Wild') ('New', 'Strong', 'Free') ('Young', 'New', 'Wild') ('Young', 'New', 'Free') ('Young', 'New', 'Strong') ('Young', 'Wild', 'New') ('Young', 'Wild', 'Free') ('Young', 'Wild', 'Strong') ('Young', 'Free', 'New') ('Young', 'Free', 'Wild') ('Young', 'Free', 'Strong') ('Young', 'Strong', 'New') ('Young', 'Strong', 'Wild') ('Young', 'Strong', 'Free') ('Wild', 'New', 'Young') ('Wild', 'New', 'Free') ('Wild', 'New', 'Strong') ('Wild', 'Young', 'New') ('Wild', 'Young', 'Free') ('Wild', 'Young', 'Strong') ('Wild', 'Free', 'New') ('Wild', 'Free', 'Young') ('Wild', 'Free', 'Strong') ('Wild', 'Strong', 'New') ('Wild', 'Strong', 'Young') ('Wild', 'Strong', 'Free') ('Free', 'New', 'Young') ('Free', 'New', 'Wild') ('Free', 'New', 'Strong') ('Free', 'Young', 'New') ('Free', 'Young', 'Wild') ('Free', 'Young', 'Strong') ('Free', 'Wild', 'New') ('Free', 'Wild', 'Young') ('Free', 'Wild', 'Strong') ('Free', 'Strong', 'New') ('Free', 'Strong', 'Young') ('Free', 'Strong', 'Wild') ('Strong', 'New', 'Young') ('Strong', 'New', 'Wild') ('Strong', 'New', 'Free') ('Strong', 'Young', 'New') ('Strong', 'Young', 'Wild') ('Strong', 'Young', 'Free') ('Strong', 'Wild', 'New') ('Strong', 'Wild', 'Young') ('Strong', 'Wild', 'Free') ('Strong', 'Free', 'New') ('Strong', 'Free', 'Young') ('Strong', 'Free', 'Wild')\n"
     ]
    }
   ],
   "source": [
    "all_permutations=list(permutations(options,len(indexes)))\n",
    "print(*all_permutations)"
   ]
  },
  {
   "cell_type": "code",
   "execution_count": 13,
   "metadata": {},
   "outputs": [
    {
     "name": "stdout",
     "output_type": "stream",
     "text": [
      "A New brown fox jumps over the lazy goats\n",
      "A quick brown fox jumps Young the lazy goats\n",
      "A quick brown fox jumps over the Wild goats\n",
      "A New brown fox jumps over the lazy goats\n",
      "A quick brown fox jumps Young the lazy goats\n",
      "A quick brown fox jumps over the Free goats\n",
      "A New brown fox jumps over the lazy goats\n",
      "A quick brown fox jumps Young the lazy goats\n",
      "A quick brown fox jumps over the Strong goats\n",
      "A New brown fox jumps over the lazy goats\n",
      "A quick brown fox jumps Wild the lazy goats\n",
      "A quick brown fox jumps over the Young goats\n",
      "A New brown fox jumps over the lazy goats\n",
      "A quick brown fox jumps Wild the lazy goats\n",
      "A quick brown fox jumps over the Free goats\n",
      "A New brown fox jumps over the lazy goats\n",
      "A quick brown fox jumps Wild the lazy goats\n",
      "A quick brown fox jumps over the Strong goats\n",
      "A New brown fox jumps over the lazy goats\n",
      "A quick brown fox jumps Free the lazy goats\n",
      "A quick brown fox jumps over the Young goats\n",
      "A New brown fox jumps over the lazy goats\n",
      "A quick brown fox jumps Free the lazy goats\n",
      "A quick brown fox jumps over the Wild goats\n",
      "A New brown fox jumps over the lazy goats\n",
      "A quick brown fox jumps Free the lazy goats\n",
      "A quick brown fox jumps over the Strong goats\n",
      "A New brown fox jumps over the lazy goats\n",
      "A quick brown fox jumps Strong the lazy goats\n",
      "A quick brown fox jumps over the Young goats\n",
      "A New brown fox jumps over the lazy goats\n",
      "A quick brown fox jumps Strong the lazy goats\n",
      "A quick brown fox jumps over the Wild goats\n",
      "A New brown fox jumps over the lazy goats\n",
      "A quick brown fox jumps Strong the lazy goats\n",
      "A quick brown fox jumps over the Free goats\n",
      "A Young brown fox jumps over the lazy goats\n",
      "A quick brown fox jumps New the lazy goats\n",
      "A quick brown fox jumps over the Wild goats\n",
      "A Young brown fox jumps over the lazy goats\n",
      "A quick brown fox jumps New the lazy goats\n",
      "A quick brown fox jumps over the Free goats\n",
      "A Young brown fox jumps over the lazy goats\n",
      "A quick brown fox jumps New the lazy goats\n",
      "A quick brown fox jumps over the Strong goats\n",
      "A Young brown fox jumps over the lazy goats\n",
      "A quick brown fox jumps Wild the lazy goats\n",
      "A quick brown fox jumps over the New goats\n",
      "A Young brown fox jumps over the lazy goats\n",
      "A quick brown fox jumps Wild the lazy goats\n",
      "A quick brown fox jumps over the Free goats\n",
      "A Young brown fox jumps over the lazy goats\n",
      "A quick brown fox jumps Wild the lazy goats\n",
      "A quick brown fox jumps over the Strong goats\n",
      "A Young brown fox jumps over the lazy goats\n",
      "A quick brown fox jumps Free the lazy goats\n",
      "A quick brown fox jumps over the New goats\n",
      "A Young brown fox jumps over the lazy goats\n",
      "A quick brown fox jumps Free the lazy goats\n",
      "A quick brown fox jumps over the Wild goats\n",
      "A Young brown fox jumps over the lazy goats\n",
      "A quick brown fox jumps Free the lazy goats\n",
      "A quick brown fox jumps over the Strong goats\n",
      "A Young brown fox jumps over the lazy goats\n",
      "A quick brown fox jumps Strong the lazy goats\n",
      "A quick brown fox jumps over the New goats\n",
      "A Young brown fox jumps over the lazy goats\n",
      "A quick brown fox jumps Strong the lazy goats\n",
      "A quick brown fox jumps over the Wild goats\n",
      "A Young brown fox jumps over the lazy goats\n",
      "A quick brown fox jumps Strong the lazy goats\n",
      "A quick brown fox jumps over the Free goats\n",
      "A Wild brown fox jumps over the lazy goats\n",
      "A quick brown fox jumps New the lazy goats\n",
      "A quick brown fox jumps over the Young goats\n",
      "A Wild brown fox jumps over the lazy goats\n",
      "A quick brown fox jumps New the lazy goats\n",
      "A quick brown fox jumps over the Free goats\n",
      "A Wild brown fox jumps over the lazy goats\n",
      "A quick brown fox jumps New the lazy goats\n",
      "A quick brown fox jumps over the Strong goats\n",
      "A Wild brown fox jumps over the lazy goats\n",
      "A quick brown fox jumps Young the lazy goats\n",
      "A quick brown fox jumps over the New goats\n",
      "A Wild brown fox jumps over the lazy goats\n",
      "A quick brown fox jumps Young the lazy goats\n",
      "A quick brown fox jumps over the Free goats\n",
      "A Wild brown fox jumps over the lazy goats\n",
      "A quick brown fox jumps Young the lazy goats\n",
      "A quick brown fox jumps over the Strong goats\n",
      "A Wild brown fox jumps over the lazy goats\n",
      "A quick brown fox jumps Free the lazy goats\n",
      "A quick brown fox jumps over the New goats\n",
      "A Wild brown fox jumps over the lazy goats\n",
      "A quick brown fox jumps Free the lazy goats\n",
      "A quick brown fox jumps over the Young goats\n",
      "A Wild brown fox jumps over the lazy goats\n",
      "A quick brown fox jumps Free the lazy goats\n",
      "A quick brown fox jumps over the Strong goats\n",
      "A Wild brown fox jumps over the lazy goats\n",
      "A quick brown fox jumps Strong the lazy goats\n",
      "A quick brown fox jumps over the New goats\n",
      "A Wild brown fox jumps over the lazy goats\n",
      "A quick brown fox jumps Strong the lazy goats\n",
      "A quick brown fox jumps over the Young goats\n",
      "A Wild brown fox jumps over the lazy goats\n",
      "A quick brown fox jumps Strong the lazy goats\n",
      "A quick brown fox jumps over the Free goats\n",
      "A Free brown fox jumps over the lazy goats\n",
      "A quick brown fox jumps New the lazy goats\n",
      "A quick brown fox jumps over the Young goats\n",
      "A Free brown fox jumps over the lazy goats\n",
      "A quick brown fox jumps New the lazy goats\n",
      "A quick brown fox jumps over the Wild goats\n",
      "A Free brown fox jumps over the lazy goats\n",
      "A quick brown fox jumps New the lazy goats\n",
      "A quick brown fox jumps over the Strong goats\n",
      "A Free brown fox jumps over the lazy goats\n",
      "A quick brown fox jumps Young the lazy goats\n",
      "A quick brown fox jumps over the New goats\n",
      "A Free brown fox jumps over the lazy goats\n",
      "A quick brown fox jumps Young the lazy goats\n",
      "A quick brown fox jumps over the Wild goats\n",
      "A Free brown fox jumps over the lazy goats\n",
      "A quick brown fox jumps Young the lazy goats\n",
      "A quick brown fox jumps over the Strong goats\n",
      "A Free brown fox jumps over the lazy goats\n",
      "A quick brown fox jumps Wild the lazy goats\n",
      "A quick brown fox jumps over the New goats\n",
      "A Free brown fox jumps over the lazy goats\n",
      "A quick brown fox jumps Wild the lazy goats\n",
      "A quick brown fox jumps over the Young goats\n",
      "A Free brown fox jumps over the lazy goats\n",
      "A quick brown fox jumps Wild the lazy goats\n",
      "A quick brown fox jumps over the Strong goats\n",
      "A Free brown fox jumps over the lazy goats\n",
      "A quick brown fox jumps Strong the lazy goats\n",
      "A quick brown fox jumps over the New goats\n",
      "A Free brown fox jumps over the lazy goats\n",
      "A quick brown fox jumps Strong the lazy goats\n",
      "A quick brown fox jumps over the Young goats\n",
      "A Free brown fox jumps over the lazy goats\n",
      "A quick brown fox jumps Strong the lazy goats\n",
      "A quick brown fox jumps over the Wild goats\n",
      "A Strong brown fox jumps over the lazy goats\n",
      "A quick brown fox jumps New the lazy goats\n",
      "A quick brown fox jumps over the Young goats\n",
      "A Strong brown fox jumps over the lazy goats\n",
      "A quick brown fox jumps New the lazy goats\n",
      "A quick brown fox jumps over the Wild goats\n",
      "A Strong brown fox jumps over the lazy goats\n",
      "A quick brown fox jumps New the lazy goats\n",
      "A quick brown fox jumps over the Free goats\n",
      "A Strong brown fox jumps over the lazy goats\n",
      "A quick brown fox jumps Young the lazy goats\n",
      "A quick brown fox jumps over the New goats\n",
      "A Strong brown fox jumps over the lazy goats\n",
      "A quick brown fox jumps Young the lazy goats\n",
      "A quick brown fox jumps over the Wild goats\n",
      "A Strong brown fox jumps over the lazy goats\n",
      "A quick brown fox jumps Young the lazy goats\n",
      "A quick brown fox jumps over the Free goats\n",
      "A Strong brown fox jumps over the lazy goats\n",
      "A quick brown fox jumps Wild the lazy goats\n",
      "A quick brown fox jumps over the New goats\n",
      "A Strong brown fox jumps over the lazy goats\n",
      "A quick brown fox jumps Wild the lazy goats\n",
      "A quick brown fox jumps over the Young goats\n",
      "A Strong brown fox jumps over the lazy goats\n",
      "A quick brown fox jumps Wild the lazy goats\n",
      "A quick brown fox jumps over the Free goats\n",
      "A Strong brown fox jumps over the lazy goats\n",
      "A quick brown fox jumps Free the lazy goats\n",
      "A quick brown fox jumps over the New goats\n",
      "A Strong brown fox jumps over the lazy goats\n",
      "A quick brown fox jumps Free the lazy goats\n",
      "A quick brown fox jumps over the Young goats\n",
      "A Strong brown fox jumps over the lazy goats\n",
      "A quick brown fox jumps Free the lazy goats\n",
      "A quick brown fox jumps over the Wild goats\n"
     ]
    }
   ],
   "source": [
    "for i in range(len(all_permutations)):\n",
    "    for j in  range(len(indexes)):\n",
    "        new=base.copy()\n",
    "        new[indexes[j]]=all_permutations[i][j]\n",
    "        new=' '.join(new)\n",
    "        print(new)"
   ]
  },
  {
   "cell_type": "code",
   "execution_count": null,
   "metadata": {},
   "outputs": [],
   "source": []
  }
 ],
 "metadata": {
  "kernelspec": {
   "display_name": "Python 3",
   "language": "python",
   "name": "python3"
  },
  "language_info": {
   "codemirror_mode": {
    "name": "ipython",
    "version": 3
   },
   "file_extension": ".py",
   "mimetype": "text/x-python",
   "name": "python",
   "nbconvert_exporter": "python",
   "pygments_lexer": "ipython3",
   "version": "3.6.7"
  }
 },
 "nbformat": 4,
 "nbformat_minor": 2
}
